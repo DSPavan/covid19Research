{
 "cells": [
  {
   "cell_type": "markdown",
   "metadata": {},
   "source": [
    "<h1> Execution of Groamscs on Unix System using NVIDIA GROMACS </h1>"
   ]
  },
  {
   "cell_type": "markdown",
   "metadata": {},
   "source": [
    "<h1> Requirements </h1>"
   ]
  },
  {
   "cell_type": "markdown",
   "metadata": {},
   "source": [
    "#Note: These commands shall be executed on - GPU based system. If that has Jupyter support, then you can run this on \n",
    "#Jupyter Notebook. Otherwise use this commands on Shell Prompt on Unix / Linux based systems."
   ]
  },
  {
   "cell_type": "code",
   "execution_count": 58,
   "metadata": {},
   "outputs": [],
   "source": [
    "# GROMACS REQUIRES.\n",
    "# NVIDIA GPU or other GPU\n",
    "# CUDA 10.1+\n",
    "# NVIDIA Docker of GROMACS  from ,  NGCngc.nvidia.com › catalog › containers › hpc:gromacs : search NVIDIA gromacs docker\n",
    "# If you are using above, then install docker, nvidia-docker (docker2) module\n",
    "\n",
    "## OR\n",
    "## You can install GROMACS directly, without using NVIDIA gromacs container - docker\n",
    "\n",
    "\n",
    "# If using NVIDIA  - Then follow this synatx. Data22 is my folder name. you can use yours !!!\n",
    "# sudo nvidia-docker  run -v $HOME/data22:/data22 -w /data22 -it gromacs/gromacs   gmx \n",
    "\n",
    "# if Gromacs directly without NVIDIA Gromacs, then use.\n",
    "# gmx "
   ]
  },
  {
   "cell_type": "code",
   "execution_count": 59,
   "metadata": {},
   "outputs": [],
   "source": [
    "# Please study and execute GROMACS using http://www.mdtutorials.com/gmx/. Please study before, executing  below commands.\n",
    "# Study Tutorial 1 and Tutorial 5."
   ]
  },
  {
   "cell_type": "markdown",
   "metadata": {},
   "source": [
    "<h3> Prepare Protein </h3"
   ]
  },
  {
   "cell_type": "code",
   "execution_count": 52,
   "metadata": {},
   "outputs": [],
   "source": [
    "# You have to combine protein and ligand in one file using PyMOL software.\n",
    "# after saving again open and see that complex, and observe protein and ligand placement\n",
    "# This Protein is not good for Gromacs\n",
    "# You have to download swisspdb viewer. once downloaded, upload your complex protein, swisspdb viewer \n",
    "# will fix missing Hydrogens, residues and other abnormalities.\n",
    "# After corrected pdb, you have to save as \"Final PDB\" for your start."
   ]
  },
  {
   "cell_type": "markdown",
   "metadata": {},
   "source": [
    "<h3>Prepare Ligand</h3>"
   ]
  },
  {
   "cell_type": "code",
   "execution_count": 54,
   "metadata": {},
   "outputs": [],
   "source": [
    "# Your Ligand preparation\n",
    "# Using any text editor, you can remove HETATOMS from above complex.pdb, and save in other file as Ligand.pdb\n",
    "# Now open with Pymol and add Hydrogens and save as ligand.mol2\n",
    "# This ligand.mol2 has to uplaod to SWISSPARAM.CH website, and  you will get zip file, after few minutes, If all well,\n",
    "# then, unzip that folder, you have to get ligand.itp, ligand.prm, ligand.pdb\n",
    "# copy these 3 files, Yes ligand.pdb also, which will replace your old ligand.pdb\n"
   ]
  },
  {
   "cell_type": "markdown",
   "metadata": {},
   "source": [
    "<h1> Start Gromacs </h1>"
   ]
  },
  {
   "cell_type": "code",
   "execution_count": null,
   "metadata": {},
   "outputs": [],
   "source": [
    " ### Execute below commands on Shell in Unix / Linux #######################"
   ]
  },
  {
   "cell_type": "code",
   "execution_count": 53,
   "metadata": {},
   "outputs": [],
   "source": [
    "#sudo docker run -v $HOME/data22:/data22 -w /data22 -it gromacs/gromacs gmx pdb2gmx -f complex_swiss_x.pdb -ff charmm36-mar2019 -ignh -o complex_full_swiss_processed.gro -nochargegrp\n",
    "# select  5 - SPE"
   ]
  },
  {
   "cell_type": "code",
   "execution_count": 55,
   "metadata": {},
   "outputs": [],
   "source": [
    "# if any thing wrong, please check your file of protein, complex, and repeat above steps !!"
   ]
  },
  {
   "cell_type": "code",
   "execution_count": 3,
   "metadata": {},
   "outputs": [],
   "source": [
    "#sudo docker run -v $HOME/data22:/data22 -w /data22 -it gromacs/gromacs gmx editconf -f ligand.pdb -o ligand.gro"
   ]
  },
  {
   "cell_type": "code",
   "execution_count": 4,
   "metadata": {},
   "outputs": [],
   "source": [
    "# Combine \"GRO\" file of Protein and Ligand into proyein.gro\n",
    "# Chnage shall be done in Topol.top"
   ]
  },
  {
   "cell_type": "code",
   "execution_count": 5,
   "metadata": {},
   "outputs": [],
   "source": [
    "#sudo docker run -v $HOME/data22:/data22 -w /data22 -it gromacs/gromacs gmx editconf -f complex_full_swiss_processed.gro -o boxed.gro -c -d 1.0 -bt cubic\n"
   ]
  },
  {
   "cell_type": "code",
   "execution_count": 6,
   "metadata": {},
   "outputs": [],
   "source": [
    "#sudo docker run -v $HOME/data22:/data22 -w /data22 -it gromacs/gromacs  gmx solvate -cp boxed.gro -cs spc216.gro -p topol.top -o solv.gro"
   ]
  },
  {
   "cell_type": "code",
   "execution_count": 7,
   "metadata": {},
   "outputs": [],
   "source": [
    "#sudo docker run -v $HOME/data22:/data22 -w /data22 -it gromacs/gromacs gmx grompp -f mdp/ions.mdp -c solv.gro -p topol.top -o ions.tpr \n",
    "# you may get problem, if properly you have not created files of proteins and ligands"
   ]
  },
  {
   "cell_type": "code",
   "execution_count": null,
   "metadata": {},
   "outputs": [],
   "source": [
    "#sudo docker run -v $HOME/data22:/data22 -w /data22 -it gromacs/gromacs   gmx genion -s ions.tpr -o solv_ions.gro -p topol.top -pname NA -nname CL -neutra"
   ]
  },
  {
   "cell_type": "code",
   "execution_count": 12,
   "metadata": {},
   "outputs": [],
   "source": [
    "# sudo docker run -v $HOME/data22:/data22 -w /data22 -it gromacs/gromacs gmx editconf -f boxed.gro -o boxed.pdb\n",
    "# at this level, please check your protein-ligand complex. if your ligand is farway, or which is diffrent \n",
    "# than docking structure, then it is wrong. first correct that, and then proceed from first step again"
   ]
  },
  {
   "cell_type": "code",
   "execution_count": 10,
   "metadata": {},
   "outputs": [],
   "source": [
    "#sudo docker run -v $HOME/data22:/data22 -w /data22 -it gromacs/gromacs   gmx grompp -f mdp/em.mdp -c solv_ions.gro -p topol.top -o em.tpr\n",
    "# em.mdp, please checkin MDP folder"
   ]
  },
  {
   "cell_type": "code",
   "execution_count": 11,
   "metadata": {},
   "outputs": [],
   "source": [
    "# sudo nvidia-docker  run -v $HOME/data22:/data22 -w /data22 -it gromacs/gromacs     gmx mdrun -v -deffnm em -nb gpu  \n",
    "# GPU should be selected automatically, if youhave installed NVIDIA and CUDA drivers."
   ]
  },
  {
   "cell_type": "code",
   "execution_count": 13,
   "metadata": {},
   "outputs": [],
   "source": [
    "# NVT\n",
    "#sudo nvidia-docker  run -v $HOME/data22:/data22 -w /data22 -it gromacs/gromacs  gmx make_ndx -f ligand.pdb -o index_ligand.ndx\n",
    "\n",
    "#> 0  & ! a H*\n",
    "#> q"
   ]
  },
  {
   "cell_type": "code",
   "execution_count": 14,
   "metadata": {},
   "outputs": [],
   "source": [
    "#sudo nvidia-docker  run -v $HOME/data22:/data22 -w /data22 -it gromacs/gromacs  gmx genrestr -f ligand.pdb -n index_ligand.ndx -o posre_ligand.itp -fc 1000 1000 1000\n",
    "#> 3"
   ]
  },
  {
   "cell_type": "code",
   "execution_count": 15,
   "metadata": {},
   "outputs": [],
   "source": [
    "#in Topol.top\n",
    "\n",
    "#== in topol.top\n",
    "#; Ligand position restraints\n",
    "#ifdef POSRES_LIG\n",
    "#include \"posre_ligand.itp\"\n",
    "#endif\n",
    "#===="
   ]
  },
  {
   "cell_type": "code",
   "execution_count": 16,
   "metadata": {},
   "outputs": [],
   "source": [
    "#sudo nvidia-docker  run -v $HOME/data22:/data22 -w /data22 -it gromacs/gromacs   gmx make_ndx -f em.gro -o index.ndx\n",
    "#> 1 | 13\n",
    "#> q"
   ]
  },
  {
   "cell_type": "code",
   "execution_count": 17,
   "metadata": {},
   "outputs": [],
   "source": [
    "#sudo nvidia-docker  run -v $HOME/data22:/data22 -w /data22 -it gromacs/gromacs   gmx grompp -f mdp/nvt.mdp -c em.gro -r em.gro -p topol.top -n index.ndx -o nvt.tpr"
   ]
  },
  {
   "cell_type": "code",
   "execution_count": 18,
   "metadata": {},
   "outputs": [],
   "source": [
    "# sudo nvidia-docker  run -v $HOME/data22:/data22 -w /data22 -it gromacs/gromacs   gmx mdrun -deffnm nvt -nb gpu\n",
    "# this step will take more than hour or so, depend on your system."
   ]
  },
  {
   "cell_type": "code",
   "execution_count": 19,
   "metadata": {},
   "outputs": [],
   "source": [
    "# NPT\n",
    "#sudo nvidia-docker  run -v $HOME/data22:/data22 -w /data22 -it gromacs/gromacs   gmx grompp -f mdp/npt.mdp -c nvt.gro -t nvt.cpt -r nvt.gro -p topol.top -n index.ndx -o npt.tpr"
   ]
  },
  {
   "cell_type": "code",
   "execution_count": 20,
   "metadata": {},
   "outputs": [],
   "source": [
    "# sudo nvidia-docker  run -v $HOME/data22:/data22 -w /data22 -it gromacs/gromacs   gmx mdrun -deffnm npt -nb gpu"
   ]
  },
  {
   "cell_type": "code",
   "execution_count": 21,
   "metadata": {},
   "outputs": [],
   "source": [
    "# MOLECULAR DYNAMICS - ACTUAL Computation !!"
   ]
  },
  {
   "cell_type": "code",
   "execution_count": 22,
   "metadata": {},
   "outputs": [],
   "source": [
    "#sudo nvidia-docker  run -v $HOME/data22:/data22 -w /data22 -it gromacs/gromacs   gmx grompp -f mdp/md20ns.mdp -c npt.gro -t npt.cpt -p topol.top -n index.ndx -o md20ns.tpr"
   ]
  },
  {
   "cell_type": "markdown",
   "metadata": {},
   "source": [
    "<h3>Molecular Dynamics </h3>"
   ]
  },
  {
   "cell_type": "code",
   "execution_count": 24,
   "metadata": {},
   "outputs": [],
   "source": [
    "# sudo nvidia-docker  run -v $HOME/data22:/data22 -w /data22 -it gromacs/gromacs  gmx mdrun -deffnm md20ns -nb gpu  -pme gpu  -bonded gpu\n",
    "\n",
    "# THIs STEP WILL TAKE 24 HOURS ON nvidia 1080, 22 gb ram, 2 GPU.\n",
    "# If you are using laptop,with 8 GB RAM only, then it may take 10 Days and even more."
   ]
  },
  {
   "cell_type": "markdown",
   "metadata": {},
   "source": [
    "<h1> After GROMACS MD SIMULATION </h1>"
   ]
  },
  {
   "cell_type": "code",
   "execution_count": 25,
   "metadata": {},
   "outputs": [],
   "source": [
    "#sudo nvidia-docker  run -v $HOME/data22:/data22 -w /data22 -it gromacs/gromacs   gmx trjconv -s md20ns.tpr -f md20ns.xtc  -center -pbc mol -ur compact -o md20ns_center.xtc\n",
    "# \"Protein\\nSystem\\n"
   ]
  },
  {
   "cell_type": "code",
   "execution_count": 26,
   "metadata": {},
   "outputs": [],
   "source": [
    "#sudo nvidia-docker  run -v $HOME/data22:/data22 -w /data22 -it gromacs/gromacs   gmx trjconv -s md20ns.tpr -f md20ns_center.xtc -fit rot+trans -o md20ns_fit.xtc \n",
    "#\"Backbone\\nSystem\\n"
   ]
  },
  {
   "cell_type": "code",
   "execution_count": 27,
   "metadata": {},
   "outputs": [],
   "source": [
    "#sudo nvidia-docker  run -v $HOME/data22:/data22 -w /data22 -it gromacs/gromacs   gmx trjconv -s md20ns.tpr -f md20ns_fit.xtc -dump 2000  -o start2000.pdb\n",
    "#\"protein\" - Last frame"
   ]
  },
  {
   "cell_type": "code",
   "execution_count": 28,
   "metadata": {},
   "outputs": [],
   "source": [
    "#sudo nvidia-docker  run -v $HOME/data22:/data22 -w /data22 -it gromacs/gromacs   gmx make_ndx -f em.gro -n index.ndx\n",
    "#...\n",
    "# > select protein Group number\n",
    "# (creates group 23)\n",
    "#> select Ligand Group number\n",
    "# (creates group 24)\n",
    "# > 23 | 24\n",
    "# > q"
   ]
  },
  {
   "cell_type": "code",
   "execution_count": 29,
   "metadata": {},
   "outputs": [],
   "source": [
    "# Potential Energy\n",
    "#sudo nvidia-docker  run -v $HOME/data22:/data22 -w /data22 -it gromacs/gromacs   gmx energy -f em.edr -o potentialEnergy.xvg\n",
    "#select number of \"Potential\" and \"system\" \n",
    "# please check the number in your version of Gromacs"
   ]
  },
  {
   "cell_type": "code",
   "execution_count": 30,
   "metadata": {},
   "outputs": [],
   "source": [
    "#sudo nvidia-docker  run -v $HOME/data22:/data22 -w /data22 -it gromacs/gromacs   gmx energy -f nvt.edr -o temperature.xvg\n",
    "# temperature, system"
   ]
  },
  {
   "cell_type": "code",
   "execution_count": 31,
   "metadata": {},
   "outputs": [],
   "source": [
    "#sudo nvidia-docker  run -v $HOME/data22:/data22 -w /data22 -it gromacs/gromacs   gmx energy -f npt.edr -o density.xvg\n",
    "# Density, system"
   ]
  },
  {
   "cell_type": "code",
   "execution_count": 32,
   "metadata": {},
   "outputs": [],
   "source": [
    "#sudo nvidia-docker  run -v $HOME/data22:/data22 -w /data22 -it gromacs/gromacs   gmx energy -f npt.edr -o pressure.xvg\n",
    "#pressure, system"
   ]
  },
  {
   "cell_type": "code",
   "execution_count": 33,
   "metadata": {},
   "outputs": [],
   "source": [
    "# If you want, no PBC\n",
    "#sudo nvidia-docker  run -v $HOME/data22:/data22 -w /data22 -it gromacs/gromacs   gmx trjconv -s md20ns.tpr -f md20ns.xtc -o md20ns_noPBC.xtc -pbc mol -center\n",
    "\n",
    "#Protein , System"
   ]
  },
  {
   "cell_type": "code",
   "execution_count": 38,
   "metadata": {},
   "outputs": [],
   "source": [
    " # RMSD - Calpha\n",
    "\n",
    "# sudo nvidia-docker  run -v $HOME/data22:/data22 -w /data22 -it gromacs/gromacs   gmx  rms -f md20ns_protein.xtc -s md20ns.pdb -o rmsd_pdb_CA.xvg -n NC_distance.ndx -tu ns\n",
    " \n",
    "# C ALPHA, Protein\n"
   ]
  },
  {
   "cell_type": "code",
   "execution_count": 37,
   "metadata": {},
   "outputs": [],
   "source": [
    "# RMSD Backbone\n",
    "#sudo nvidia-docker  run -v $HOME/data22:/data22 -w /data22 -it gromacs/gromacs   gmx  rms -f md20ns_protein.xtc -s md20ns.pdb -o rmsd_pdb_backbone.xvg -n NC_distance.ndx -tu ns\n",
    "# Backbone,system \n",
    "    "
   ]
  },
  {
   "cell_type": "code",
   "execution_count": 36,
   "metadata": {},
   "outputs": [],
   "source": [
    "# Interaction Energy\n",
    "# sudo nvidia-docker  run -v $HOME/data22:/data22 -w /data22 -it gromacs/gromacs   gmx grompp -f mdp/ie.mdp -c npt.gro -t npt.cpt -p topol.top -n index.ndx -o ie.tpr\n",
    "# sudo nvidia-docker  run -v $HOME/data22:/data22 -w /data22 -it gromacs/gromacs   gmx mdrun -deffnm ie -rerun md20ns_fit.xtc -nb cpu\n",
    "# \n",
    "#sudo nvidia-docker  run -v $HOME/data22:/data22 -w /data22 -it gromacs/gromacs   gmx energy -f ie.edr -o interaction_energy_20ns.xvg\n",
    "    "
   ]
  },
  {
   "cell_type": "code",
   "execution_count": 39,
   "metadata": {},
   "outputs": [],
   "source": [
    "# RAMACHNADRAN Plot\n",
    "# sudo nvidia-docker  run -v $HOME/data22:/data22 -w /data22 -it gromacs/gromacs  gmx rama -f md20ns.pdb -s md20ns.tpr -o rama_protein_0.xvg\n",
    "\n",
    "# You need GNUPLOT for windows, XMGRACE on Linux to view XVG file\n",
    "# on gnuplot> plot(\"c:\\\\..\\\\rama_protein_0.xvg\")"
   ]
  },
  {
   "cell_type": "code",
   "execution_count": 40,
   "metadata": {},
   "outputs": [],
   "source": [
    "# Hydrogen Bonds\n",
    "# HBond\n",
    "#sudo nvidia-docker  run -v $HOME/data22:/data22 -w /data22 -it gromacs/gromacs   gmx make_ndx -f md20ns.tpr -o index.ndx\n",
    "#1 , 19, 22 | 23, q - selecting this depends on what you want. Protein - Ligand, Protein-protein.\n",
    "# depend on your work choose correct numbers, when prompted"
   ]
  },
  {
   "cell_type": "code",
   "execution_count": 41,
   "metadata": {},
   "outputs": [],
   "source": [
    "#sudo nvidia-docker  run -v $HOME/data22:/data22 -w /data22 -it gromacs/gromacs    gmx hbond -f md20ns.xtc -s md20ns.tpr -num hbnum.xvg -g hbond.log -ac hbac.xvg -dist hbdist.xvg -ang hbang.xvg -hx hbhelix.xvg  -hbn index.ndx -hbm hbmap.xpm -don donor.xvg -dan danum.xvg -life hblife.xvg -nhbdist nhbdist.xvg \n",
    "\n",
    "# Protein, Ligand  ( or) Protein, protein or your choice as per your experiment"
   ]
  },
  {
   "cell_type": "code",
   "execution_count": 42,
   "metadata": {},
   "outputs": [],
   "source": [
    "# Cluster\n",
    "#sudo nvidia-docker  run -v $HOME/data22:/data22 -w /data22 -it gromacs/gromacs    gmx cluster -f md20ns_protein.xtc -s md20ns_protein.tpr  -method gromos -om rmsd-raw.xpm -o rmsd-clust.xpm -g cluster.log -dist rmsd-dist.xvg -ev rmsd-eig.xvg -conv mc-conv.xvg -sz clust-size.xvg -ntr clust-trans.xvg -clid clust-id.xvg -cl clusters.pdb -tu ns  -cutoff 0.15\n",
    "# get clusters for  CAlpha and Protein or you can choose your choice\n",
    "    "
   ]
  },
  {
   "cell_type": "code",
   "execution_count": 44,
   "metadata": {},
   "outputs": [],
   "source": [
    "# REMOVE WATER - Because output file i very big !!\n",
    "#sudo nvidia-docker  run -v $HOME/data22:/data22 -w /data22 -it gromacs/gromacs   gmx  trjconv -f md20ns.xtc -s md20ns.tpr -o prd-lig.xtc -center -ur compact -pbc mol\n",
    "\n",
    "#Proten-Ligand  or\n",
    "#Clapha - Ligand\n",
    "\n",
    "# this is good for VMD  visualization."
   ]
  },
  {
   "cell_type": "code",
   "execution_count": 45,
   "metadata": {},
   "outputs": [],
   "source": [
    "# dssp\n",
    "# I am unable to execute code, but used online services like   http://endscript.ibcp.fr/ESPript/ENDscript/\n",
    "# upload your last frame PDB from below command.\n",
    "# sudo nvidia-docker  run -v $HOME/data22:/data22 -w /data22 -it gromacs/gromacs   gmx trjconv -s md20ns.tpr -f md20ns_fit.xtc -dump 2000  -o start2000.pdb\n",
    "\n",
    "#"
   ]
  },
  {
   "cell_type": "code",
   "execution_count": 46,
   "metadata": {},
   "outputs": [],
   "source": [
    "#   Gyration\n",
    "#sudo nvidia-docker  run -v $HOME/data22:/data22 -w /data22 -it gromacs/gromacs   gmx  gyrate -f md20ns_protein.xtc -s md20ns.pdb -o gyrate_pdb.xvg\n",
    "# Rgyr is a measure for the compactness of a structure"
   ]
  },
  {
   "cell_type": "code",
   "execution_count": 47,
   "metadata": {},
   "outputs": [],
   "source": [
    "# RMSF\n",
    "#sudo nvidia-docker  run -v $HOME/data22:/data22 -w /data22 -it gromacs/gromacs   gmx rmsf -f md20ns_protein.xtc -s md20ns.pdb -o rmsf_pdb.xvg\n",
    "    "
   ]
  },
  {
   "cell_type": "code",
   "execution_count": 49,
   "metadata": {},
   "outputs": [],
   "source": [
    "\n",
    "# Distance \n",
    "#sudo nvidia-docker  run -v $HOME/data22:/data22 -w /data22 -it gromacs/gromacs   gmx distance -s md20ns.tpr -f md20ns_fit.xtc -select -oall\n",
    "# OR \n",
    "#sudo nvidia-docker  run -v $HOME/data22:/data22 -w /data22 -it gromacs/gromacs   gmx distance -s md20ns.tpr -f md20ns_fit.xtc  -oall md20ns_dist.xvg -oh md20ns_disthist.xvg -n index.ndx -tu ns -len 2 -binw 0.01\n",
    "\n",
    "# # select your choice, when prompted\n",
    "    \n",
    "    "
   ]
  },
  {
   "cell_type": "code",
   "execution_count": null,
   "metadata": {},
   "outputs": [],
   "source": []
  }
 ],
 "metadata": {
  "kernelspec": {
   "display_name": "Python 3",
   "language": "python",
   "name": "python3"
  },
  "language_info": {
   "codemirror_mode": {
    "name": "ipython",
    "version": 3
   },
   "file_extension": ".py",
   "mimetype": "text/x-python",
   "name": "python",
   "nbconvert_exporter": "python",
   "pygments_lexer": "ipython3",
   "version": "3.7.5"
  }
 },
 "nbformat": 4,
 "nbformat_minor": 4
}
