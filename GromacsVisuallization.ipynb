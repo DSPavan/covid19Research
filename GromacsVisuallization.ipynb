{
 "cells": [
  {
   "cell_type": "code",
   "execution_count": 1,
   "metadata": {},
   "outputs": [
    {
     "name": "stderr",
     "output_type": "stream",
     "text": [
      "Enabling notebook extension jupyter-js-widgets/extension...\n",
      "      - Validating: ok\n",
      "Enabling notebook extension nglview-js-widgets/extension...\n",
      "      - Validating: ok\n"
     ]
    }
   ],
   "source": [
    "# pip install GitPython\n",
    "!jupyter-nbextension enable --py --user widgetsnbextension\n",
    "!jupyter-nbextension enable --py --user nglview"
   ]
  },
  {
   "cell_type": "code",
   "execution_count": 3,
   "metadata": {},
   "outputs": [],
   "source": [
    "# EG: Pip install biobb_io\n",
    "#biobb_io: Tools to fetch biomolecular data from public databases.\n",
    "#biobb_model: Tools to model macromolecular structures.\n",
    "#biobb_md: Tools to setup and run Molecular Dynamics simulations.\n",
    "#biobb_analysis: Tools to analyse Molecular Dynamics trajectories.\n",
    "\n",
    "import biobb_io\n",
    "import biobb_model\n",
    "\n",
    "import biobb_md\n",
    "import biobb_analysis"
   ]
  },
  {
   "cell_type": "code",
   "execution_count": 5,
   "metadata": {},
   "outputs": [],
   "source": [
    "import nglview\n",
    "import ipywidgets\n",
    "from utils import *"
   ]
  },
  {
   "cell_type": "code",
   "execution_count": 6,
   "metadata": {
    "scrolled": true
   },
   "outputs": [
    {
     "data": {
      "application/vnd.jupyter.widget-view+json": {
       "model_id": "7aac80ceaa52407290206fd9871992a9",
       "version_major": 2,
       "version_minor": 0
      },
      "text/plain": [
       "NGLWidget()"
      ]
     },
     "metadata": {},
     "output_type": "display_data"
    }
   ],
   "source": [
    "# Show protein\n",
    "view = nglview.show_structure_file(\"C:\\\\Users\\\\radha\\\\Desktop\\\\20nsXVG\\\\solv.pdb\")\n",
    "view.clear_representations()\n",
    "view.add_representation(repr_type='cartoon', selection='solute', color='green')\n",
    "view.add_representation(repr_type='ball+stick', selection='SOL')\n",
    "view._remote_call('setSize', target='Widget', args=['','600px'])\n",
    "view.camera='orthographic'\n",
    "view"
   ]
  },
  {
   "cell_type": "code",
   "execution_count": 7,
   "metadata": {},
   "outputs": [
    {
     "data": {
      "application/vnd.jupyter.widget-view+json": {
       "model_id": "adbd0d24e7a3466aa10e9162a398061b",
       "version_major": 2,
       "version_minor": 0
      },
      "text/plain": [
       "NGLWidget()"
      ]
     },
     "metadata": {},
     "output_type": "display_data"
    }
   ],
   "source": [
    "# Show protein\n",
    "view = nglview.show_structure_file(\"C:\\\\Users\\\\radha\\\\Desktop\\\\20nsXVG\\\\solv_ions.pdb\")\n",
    "view.clear_representations()\n",
    "view.add_representation(repr_type='cartoon', selection='solute', color='sstruc')\n",
    "view.add_representation(repr_type='ball+stick', selection='NA', color=\"red\")\n",
    "view.add_representation(repr_type='ball+stick', selection='CL')\n",
    "view._remote_call('setSize', target='Widget', args=['','600px'])\n",
    "view.camera='orthographic'\n",
    "view"
   ]
  },
  {
   "cell_type": "code",
   "execution_count": 8,
   "metadata": {},
   "outputs": [
    {
     "data": {
      "application/vnd.jupyter.widget-view+json": {
       "model_id": "973659cb56ca4acfbc1406fe5fc314ba",
       "version_major": 2,
       "version_minor": 0
      },
      "text/plain": [
       "NGLWidget()"
      ]
     },
     "metadata": {},
     "output_type": "display_data"
    }
   ],
   "source": [
    "# Show protein\n",
    "view = nglview.show_structure_file(\"C:\\\\Users\\\\radha\\\\Desktop\\\\20nsXVG\\\\md20ns.pdb\")\n",
    "view.clear_representations()\n",
    "view.add_representation(repr_type='cartoon', selection='solute', color='green')\n",
    "view.add_representation(repr_type='ball+stick', selection='LIG', color=\"red\")\n",
    "view.add_representation(repr_type='ball+stick', selection='NA', color=\"blue\")\n",
    "view._remote_call('setSize', target='Widget', args=['','600px'])\n",
    "view.camera='orthographic'\n",
    "view"
   ]
  },
  {
   "cell_type": "code",
   "execution_count": null,
   "metadata": {},
   "outputs": [],
   "source": []
  }
 ],
 "metadata": {
  "kernelspec": {
   "display_name": "Python 3",
   "language": "python",
   "name": "python3"
  },
  "language_info": {
   "codemirror_mode": {
    "name": "ipython",
    "version": 3
   },
   "file_extension": ".py",
   "mimetype": "text/x-python",
   "name": "python",
   "nbconvert_exporter": "python",
   "pygments_lexer": "ipython3",
   "version": "3.7.5"
  }
 },
 "nbformat": 4,
 "nbformat_minor": 2
}
